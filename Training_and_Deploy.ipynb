{
  "nbformat": 4,
  "nbformat_minor": 0,
  "metadata": {
    "colab": {
      "provenance": [],
      "gpuType": "T4"
    },
    "kernelspec": {
      "name": "python3",
      "display_name": "Python 3"
    },
    "language_info": {
      "name": "python"
    },
    "accelerator": "GPU"
  },
  "cells": [
    {
      "cell_type": "code",
      "source": [
        "!pip install ultralytics"
      ],
      "metadata": {
        "id": "SFebTHcvr8U6",
        "colab": {
          "base_uri": "https://localhost:8080/"
        },
        "outputId": "205317a1-ef01-440b-9456-1a19aee56b83"
      },
      "execution_count": null,
      "outputs": [
        {
          "output_type": "stream",
          "name": "stdout",
          "text": [
            "Collecting ultralytics\n",
            "  Downloading ultralytics-8.2.75-py3-none-any.whl.metadata (41 kB)\n",
            "\u001b[?25l     \u001b[90m━━━━━━━━━━━━━━━━━━━━━━━━━━━━━━━━━━━━━━━━\u001b[0m \u001b[32m0.0/41.3 kB\u001b[0m \u001b[31m?\u001b[0m eta \u001b[36m-:--:--\u001b[0m\r\u001b[2K     \u001b[90m━━━━━━━━━━━━━━━━━━━━━━━━━━━━━━━━━━━━━━━━\u001b[0m \u001b[32m41.3/41.3 kB\u001b[0m \u001b[31m1.5 MB/s\u001b[0m eta \u001b[36m0:00:00\u001b[0m\n",
            "\u001b[?25hRequirement already satisfied: numpy<2.0.0,>=1.23.0 in /usr/local/lib/python3.10/dist-packages (from ultralytics) (1.26.4)\n",
            "Requirement already satisfied: matplotlib>=3.3.0 in /usr/local/lib/python3.10/dist-packages (from ultralytics) (3.7.1)\n",
            "Requirement already satisfied: opencv-python>=4.6.0 in /usr/local/lib/python3.10/dist-packages (from ultralytics) (4.10.0.84)\n",
            "Requirement already satisfied: pillow>=7.1.2 in /usr/local/lib/python3.10/dist-packages (from ultralytics) (9.4.0)\n",
            "Requirement already satisfied: pyyaml>=5.3.1 in /usr/local/lib/python3.10/dist-packages (from ultralytics) (6.0.1)\n",
            "Requirement already satisfied: requests>=2.23.0 in /usr/local/lib/python3.10/dist-packages (from ultralytics) (2.32.3)\n",
            "Requirement already satisfied: scipy>=1.4.1 in /usr/local/lib/python3.10/dist-packages (from ultralytics) (1.13.1)\n",
            "Requirement already satisfied: torch>=1.8.0 in /usr/local/lib/python3.10/dist-packages (from ultralytics) (2.3.1+cu121)\n",
            "Requirement already satisfied: torchvision>=0.9.0 in /usr/local/lib/python3.10/dist-packages (from ultralytics) (0.18.1+cu121)\n",
            "Requirement already satisfied: tqdm>=4.64.0 in /usr/local/lib/python3.10/dist-packages (from ultralytics) (4.66.5)\n",
            "Requirement already satisfied: psutil in /usr/local/lib/python3.10/dist-packages (from ultralytics) (5.9.5)\n",
            "Requirement already satisfied: py-cpuinfo in /usr/local/lib/python3.10/dist-packages (from ultralytics) (9.0.0)\n",
            "Requirement already satisfied: pandas>=1.1.4 in /usr/local/lib/python3.10/dist-packages (from ultralytics) (2.1.4)\n",
            "Requirement already satisfied: seaborn>=0.11.0 in /usr/local/lib/python3.10/dist-packages (from ultralytics) (0.13.1)\n",
            "Collecting ultralytics-thop>=2.0.0 (from ultralytics)\n",
            "  Downloading ultralytics_thop-2.0.0-py3-none-any.whl.metadata (8.5 kB)\n",
            "Requirement already satisfied: contourpy>=1.0.1 in /usr/local/lib/python3.10/dist-packages (from matplotlib>=3.3.0->ultralytics) (1.2.1)\n",
            "Requirement already satisfied: cycler>=0.10 in /usr/local/lib/python3.10/dist-packages (from matplotlib>=3.3.0->ultralytics) (0.12.1)\n",
            "Requirement already satisfied: fonttools>=4.22.0 in /usr/local/lib/python3.10/dist-packages (from matplotlib>=3.3.0->ultralytics) (4.53.1)\n",
            "Requirement already satisfied: kiwisolver>=1.0.1 in /usr/local/lib/python3.10/dist-packages (from matplotlib>=3.3.0->ultralytics) (1.4.5)\n",
            "Requirement already satisfied: packaging>=20.0 in /usr/local/lib/python3.10/dist-packages (from matplotlib>=3.3.0->ultralytics) (24.1)\n",
            "Requirement already satisfied: pyparsing>=2.3.1 in /usr/local/lib/python3.10/dist-packages (from matplotlib>=3.3.0->ultralytics) (3.1.2)\n",
            "Requirement already satisfied: python-dateutil>=2.7 in /usr/local/lib/python3.10/dist-packages (from matplotlib>=3.3.0->ultralytics) (2.8.2)\n",
            "Requirement already satisfied: pytz>=2020.1 in /usr/local/lib/python3.10/dist-packages (from pandas>=1.1.4->ultralytics) (2024.1)\n",
            "Requirement already satisfied: tzdata>=2022.1 in /usr/local/lib/python3.10/dist-packages (from pandas>=1.1.4->ultralytics) (2024.1)\n",
            "Requirement already satisfied: charset-normalizer<4,>=2 in /usr/local/lib/python3.10/dist-packages (from requests>=2.23.0->ultralytics) (3.3.2)\n",
            "Requirement already satisfied: idna<4,>=2.5 in /usr/local/lib/python3.10/dist-packages (from requests>=2.23.0->ultralytics) (3.7)\n",
            "Requirement already satisfied: urllib3<3,>=1.21.1 in /usr/local/lib/python3.10/dist-packages (from requests>=2.23.0->ultralytics) (2.0.7)\n",
            "Requirement already satisfied: certifi>=2017.4.17 in /usr/local/lib/python3.10/dist-packages (from requests>=2.23.0->ultralytics) (2024.7.4)\n",
            "Requirement already satisfied: filelock in /usr/local/lib/python3.10/dist-packages (from torch>=1.8.0->ultralytics) (3.15.4)\n",
            "Requirement already satisfied: typing-extensions>=4.8.0 in /usr/local/lib/python3.10/dist-packages (from torch>=1.8.0->ultralytics) (4.12.2)\n",
            "Requirement already satisfied: sympy in /usr/local/lib/python3.10/dist-packages (from torch>=1.8.0->ultralytics) (1.13.1)\n",
            "Requirement already satisfied: networkx in /usr/local/lib/python3.10/dist-packages (from torch>=1.8.0->ultralytics) (3.3)\n",
            "Requirement already satisfied: jinja2 in /usr/local/lib/python3.10/dist-packages (from torch>=1.8.0->ultralytics) (3.1.4)\n",
            "Requirement already satisfied: fsspec in /usr/local/lib/python3.10/dist-packages (from torch>=1.8.0->ultralytics) (2024.6.1)\n",
            "Collecting nvidia-cuda-nvrtc-cu12==12.1.105 (from torch>=1.8.0->ultralytics)\n",
            "  Using cached nvidia_cuda_nvrtc_cu12-12.1.105-py3-none-manylinux1_x86_64.whl.metadata (1.5 kB)\n",
            "Collecting nvidia-cuda-runtime-cu12==12.1.105 (from torch>=1.8.0->ultralytics)\n",
            "  Using cached nvidia_cuda_runtime_cu12-12.1.105-py3-none-manylinux1_x86_64.whl.metadata (1.5 kB)\n",
            "Collecting nvidia-cuda-cupti-cu12==12.1.105 (from torch>=1.8.0->ultralytics)\n",
            "  Using cached nvidia_cuda_cupti_cu12-12.1.105-py3-none-manylinux1_x86_64.whl.metadata (1.6 kB)\n",
            "Collecting nvidia-cudnn-cu12==8.9.2.26 (from torch>=1.8.0->ultralytics)\n",
            "  Using cached nvidia_cudnn_cu12-8.9.2.26-py3-none-manylinux1_x86_64.whl.metadata (1.6 kB)\n",
            "Collecting nvidia-cublas-cu12==12.1.3.1 (from torch>=1.8.0->ultralytics)\n",
            "  Using cached nvidia_cublas_cu12-12.1.3.1-py3-none-manylinux1_x86_64.whl.metadata (1.5 kB)\n",
            "Collecting nvidia-cufft-cu12==11.0.2.54 (from torch>=1.8.0->ultralytics)\n",
            "  Using cached nvidia_cufft_cu12-11.0.2.54-py3-none-manylinux1_x86_64.whl.metadata (1.5 kB)\n",
            "Collecting nvidia-curand-cu12==10.3.2.106 (from torch>=1.8.0->ultralytics)\n",
            "  Using cached nvidia_curand_cu12-10.3.2.106-py3-none-manylinux1_x86_64.whl.metadata (1.5 kB)\n",
            "Collecting nvidia-cusolver-cu12==11.4.5.107 (from torch>=1.8.0->ultralytics)\n",
            "  Using cached nvidia_cusolver_cu12-11.4.5.107-py3-none-manylinux1_x86_64.whl.metadata (1.6 kB)\n",
            "Collecting nvidia-cusparse-cu12==12.1.0.106 (from torch>=1.8.0->ultralytics)\n",
            "  Using cached nvidia_cusparse_cu12-12.1.0.106-py3-none-manylinux1_x86_64.whl.metadata (1.6 kB)\n",
            "Collecting nvidia-nccl-cu12==2.20.5 (from torch>=1.8.0->ultralytics)\n",
            "  Using cached nvidia_nccl_cu12-2.20.5-py3-none-manylinux2014_x86_64.whl.metadata (1.8 kB)\n",
            "Collecting nvidia-nvtx-cu12==12.1.105 (from torch>=1.8.0->ultralytics)\n",
            "  Using cached nvidia_nvtx_cu12-12.1.105-py3-none-manylinux1_x86_64.whl.metadata (1.7 kB)\n",
            "Requirement already satisfied: triton==2.3.1 in /usr/local/lib/python3.10/dist-packages (from torch>=1.8.0->ultralytics) (2.3.1)\n",
            "Collecting nvidia-nvjitlink-cu12 (from nvidia-cusolver-cu12==11.4.5.107->torch>=1.8.0->ultralytics)\n",
            "  Using cached nvidia_nvjitlink_cu12-12.6.20-py3-none-manylinux2014_x86_64.whl.metadata (1.5 kB)\n",
            "Requirement already satisfied: six>=1.5 in /usr/local/lib/python3.10/dist-packages (from python-dateutil>=2.7->matplotlib>=3.3.0->ultralytics) (1.16.0)\n",
            "Requirement already satisfied: MarkupSafe>=2.0 in /usr/local/lib/python3.10/dist-packages (from jinja2->torch>=1.8.0->ultralytics) (2.1.5)\n",
            "Requirement already satisfied: mpmath<1.4,>=1.1.0 in /usr/local/lib/python3.10/dist-packages (from sympy->torch>=1.8.0->ultralytics) (1.3.0)\n",
            "Downloading ultralytics-8.2.75-py3-none-any.whl (865 kB)\n",
            "\u001b[2K   \u001b[90m━━━━━━━━━━━━━━━━━━━━━━━━━━━━━━━━━━━━━━━━\u001b[0m \u001b[32m865.6/865.6 kB\u001b[0m \u001b[31m13.9 MB/s\u001b[0m eta \u001b[36m0:00:00\u001b[0m\n",
            "\u001b[?25hUsing cached nvidia_cublas_cu12-12.1.3.1-py3-none-manylinux1_x86_64.whl (410.6 MB)\n",
            "Using cached nvidia_cuda_cupti_cu12-12.1.105-py3-none-manylinux1_x86_64.whl (14.1 MB)\n",
            "Using cached nvidia_cuda_nvrtc_cu12-12.1.105-py3-none-manylinux1_x86_64.whl (23.7 MB)\n",
            "Using cached nvidia_cuda_runtime_cu12-12.1.105-py3-none-manylinux1_x86_64.whl (823 kB)\n",
            "Using cached nvidia_cudnn_cu12-8.9.2.26-py3-none-manylinux1_x86_64.whl (731.7 MB)\n",
            "Using cached nvidia_cufft_cu12-11.0.2.54-py3-none-manylinux1_x86_64.whl (121.6 MB)\n",
            "Using cached nvidia_curand_cu12-10.3.2.106-py3-none-manylinux1_x86_64.whl (56.5 MB)\n",
            "Using cached nvidia_cusolver_cu12-11.4.5.107-py3-none-manylinux1_x86_64.whl (124.2 MB)\n",
            "Using cached nvidia_cusparse_cu12-12.1.0.106-py3-none-manylinux1_x86_64.whl (196.0 MB)\n",
            "Using cached nvidia_nccl_cu12-2.20.5-py3-none-manylinux2014_x86_64.whl (176.2 MB)\n",
            "Using cached nvidia_nvtx_cu12-12.1.105-py3-none-manylinux1_x86_64.whl (99 kB)\n",
            "Downloading ultralytics_thop-2.0.0-py3-none-any.whl (25 kB)\n",
            "Using cached nvidia_nvjitlink_cu12-12.6.20-py3-none-manylinux2014_x86_64.whl (19.7 MB)\n",
            "Installing collected packages: nvidia-nvtx-cu12, nvidia-nvjitlink-cu12, nvidia-nccl-cu12, nvidia-curand-cu12, nvidia-cufft-cu12, nvidia-cuda-runtime-cu12, nvidia-cuda-nvrtc-cu12, nvidia-cuda-cupti-cu12, nvidia-cublas-cu12, nvidia-cusparse-cu12, nvidia-cudnn-cu12, nvidia-cusolver-cu12, ultralytics-thop, ultralytics\n",
            "Successfully installed nvidia-cublas-cu12-12.1.3.1 nvidia-cuda-cupti-cu12-12.1.105 nvidia-cuda-nvrtc-cu12-12.1.105 nvidia-cuda-runtime-cu12-12.1.105 nvidia-cudnn-cu12-8.9.2.26 nvidia-cufft-cu12-11.0.2.54 nvidia-curand-cu12-10.3.2.106 nvidia-cusolver-cu12-11.4.5.107 nvidia-cusparse-cu12-12.1.0.106 nvidia-nccl-cu12-2.20.5 nvidia-nvjitlink-cu12-12.6.20 nvidia-nvtx-cu12-12.1.105 ultralytics-8.2.75 ultralytics-thop-2.0.0\n"
          ]
        }
      ]
    },
    {
      "cell_type": "code",
      "source": [
        "!git clone -b v7.0 https://github.com/ultralytics/yolov5.git"
      ],
      "metadata": {
        "colab": {
          "base_uri": "https://localhost:8080/"
        },
        "id": "ia6tCh_LBrdl",
        "outputId": "54d4bab0-f3d2-4672-b57b-8bdfb08f52ad"
      },
      "execution_count": null,
      "outputs": [
        {
          "output_type": "stream",
          "name": "stdout",
          "text": [
            "Cloning into 'yolov5'...\n",
            "remote: Enumerating objects: 16836, done.\u001b[K\n",
            "remote: Counting objects: 100% (11/11), done.\u001b[K\n",
            "remote: Compressing objects: 100% (11/11), done.\u001b[K\n",
            "remote: Total 16836 (delta 1), reused 6 (delta 0), pack-reused 16825\u001b[K\n",
            "Receiving objects: 100% (16836/16836), 15.57 MiB | 15.10 MiB/s, done.\n",
            "Resolving deltas: 100% (11541/11541), done.\n",
            "Note: switching to '915bbf294bb74c859f0b41f1c23bc395014ea679'.\n",
            "\n",
            "You are in 'detached HEAD' state. You can look around, make experimental\n",
            "changes and commit them, and you can discard any commits you make in this\n",
            "state without impacting any branches by switching back to a branch.\n",
            "\n",
            "If you want to create a new branch to retain commits you create, you may\n",
            "do so (now or later) by using -c with the switch command. Example:\n",
            "\n",
            "  git switch -c <new-branch-name>\n",
            "\n",
            "Or undo this operation with:\n",
            "\n",
            "  git switch -\n",
            "\n",
            "Turn off this advice by setting config variable advice.detachedHead to false\n",
            "\n"
          ]
        }
      ]
    },
    {
      "cell_type": "markdown",
      "source": [
        "Download the original weight of the YOLOv8 Nano pretrained model, if you see the **yolov8.pt** you don't need to download it again"
      ],
      "metadata": {
        "id": "YcbfE5al1wui"
      }
    },
    {
      "cell_type": "code",
      "source": [
        "# Download pretrained model from Ultralytics github for training\n",
        "!wget https://github.com/ultralytics/assets/releases/download/v0.0.0/yolov8n.pt\n"
      ],
      "metadata": {
        "id": "fwzIOVWssYu3"
      },
      "execution_count": null,
      "outputs": []
    },
    {
      "cell_type": "markdown",
      "source": [
        "The roboflow export data will have a link for us. Copy the link in this part:\n",
        "![image_2024-03-01_235914795.png](data:image/png;base64,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)\n",
        "\n",
        "And paste it into the url.\n",
        "The file_name will be the name of which file you want to store our data.\n",
        "After config the **url** and **file_name** run two following script inorder to download the data, you can read my guide at the top of each section."
      ],
      "metadata": {
        "id": "ZGyTKNTy8udk"
      }
    },
    {
      "cell_type": "code",
      "source": [
        "# Run this to save the config\n",
        "# url = \"https://app.roboflow.com/ds/02q3v9ukkt?key=nqnJ1CUFXS\" #v5\n",
        "# url = \"https://app.roboflow.com/ds/ivqg7l4fZl?key=as1aFnmWdx\" #v6\n",
        "# url = \"https://app.roboflow.com/ds/Enz36gMSpi?key=otp9k8CxFY\" #v7\n",
        "# url = \"https://app.roboflow.com/ds/L6xGurPpmG?key=P8XFYHNXQH\" #verror\n",
        "url = \"https://app.roboflow.com/ds/uvXM0YzZi6?key=mKcwwS4iMN\" #v8\n",
        "file_name = \"data\""
      ],
      "metadata": {
        "id": "ZZMgnXHc4mi1"
      },
      "execution_count": null,
      "outputs": []
    },
    {
      "cell_type": "code",
      "source": [
        "# Run this to download dataset from Roboflow and unzip it\n",
        "\n",
        "dl_name = url.split(\"/\")[-1]\n",
        "!wget {url}\n",
        "!unzip {dl_name} -d {file_name}\n",
        "!rm -r {dl_name}\n",
        "\n"
      ],
      "metadata": {
        "id": "Vic67O90vaZ8"
      },
      "execution_count": null,
      "outputs": []
    },
    {
      "cell_type": "code",
      "source": [
        "# Run this script to start the training process, the result will be stored in runs.\n",
        "from ultralytics import YOLO\n",
        "import os\n",
        "\n",
        "# Config parameter for training\n",
        "# model_name = \"yolov8n.pt\"\n",
        "model_name = \"model_v8.pt\"\n",
        "num_epochs = 100\n",
        "batch_size = 16\n",
        "size = 640\n",
        "data_path = os.path.join(\"/content\", file_name, \"data.yaml\")\n",
        "export_name = \"dish_model_testing\"\n",
        "\n",
        "model = YOLO(model_name)\n",
        "model.train(data = data_path, epochs = num_epochs, batch = batch_size, name = export_name, close_mosaic = 0, imgsz = size)\n",
        "\n",
        "\n",
        "\n"
      ],
      "metadata": {
        "id": "UbH1C_Y4ukbY"
      },
      "execution_count": null,
      "outputs": []
    },
    {
      "cell_type": "code",
      "source": [
        "# Export to onnx:\n",
        "\n",
        "import os\n",
        "import sys\n",
        "\n",
        "from ultralytics import YOLO\n",
        "\n",
        "model_path = \"/content/yolov5s-seg.pt\"\n",
        "# model_path = os.path.join(\"/content/runs/detect\", export_name, \"weights/best.pt\")\n",
        "model = YOLO(model_path)\n",
        "model.export(format = 'onnx', int8 = True)"
      ],
      "metadata": {
        "id": "zlCFT57-MCjL"
      },
      "execution_count": null,
      "outputs": []
    },
    {
      "cell_type": "code",
      "source": [
        "from ultralytics import YOLO\n",
        "model_path = './model_v7.pt'\n",
        "\n",
        "model = YOLO('/content/model_v8.onnx')\n",
        "result = model.predict(source = '/content/image.jpeg', imgsz = 640, save = True, conf = 0.7)\n",
        "for r in result:\n",
        "  print(r.boxes.xywh.cpu().numpy())"
      ],
      "metadata": {
        "colab": {
          "base_uri": "https://localhost:8080/"
        },
        "id": "LnmTZTHSfEzM",
        "outputId": "db6ec156-9be7-45b3-d500-ab0de362c755"
      },
      "execution_count": null,
      "outputs": [
        {
          "output_type": "stream",
          "name": "stdout",
          "text": [
            "WARNING ⚠️ Unable to automatically guess model task, assuming 'task=detect'. Explicitly define task for your model, i.e. 'task=detect', 'segment', 'classify','pose' or 'obb'.\n",
            "Loading /content/model_v8.onnx for ONNX Runtime inference...\n",
            "\n",
            "image 1/1 /content/image.jpeg: 640x640 2 b_mas, 2 b_phaos, 2 b_sis, 5 b_tots, 1 b_tuong, 2 b_vois, 2 b_xes, 2 r_binhs, 541.7ms\n",
            "Speed: 138.3ms preprocess, 541.7ms inference, 4884.0ms postprocess per image at shape (1, 3, 640, 640)\n",
            "Results saved to \u001b[1mruns/detect/predict\u001b[0m\n",
            "[[     384.94      118.68      51.279      53.892]\n",
            " [     522.23       109.8      52.254      56.759]\n",
            " [      135.7      256.46      53.437      56.391]\n",
            " [      193.5      130.41      51.584      56.281]\n",
            " [     460.73      112.28      50.203      52.995]\n",
            " [     260.84      127.41      49.663      53.923]\n",
            " [     594.07      106.61      53.312      56.395]\n",
            " [     342.13      302.35      50.499      56.375]\n",
            " [      525.6      231.52      54.161      55.958]\n",
            " [     69.692      136.16      50.255      54.885]\n",
            " [     125.03      131.33      51.337      56.924]\n",
            " [     205.56      305.69      51.062      57.252]\n",
            " [     89.381      318.46      52.817      57.577]\n",
            " [     468.41      294.08      53.276      56.796]\n",
            " [      321.6      124.02      51.082      55.897]\n",
            " [     597.64      292.59      53.552      55.719]\n",
            " [     484.73      464.07      57.006      31.853]\n",
            " [     608.05      464.85      58.303      30.309]]\n"
          ]
        }
      ]
    },
    {
      "cell_type": "code",
      "source": [
        "!git clone https://github.com/ultralytics/yolov5"
      ],
      "metadata": {
        "colab": {
          "base_uri": "https://localhost:8080/"
        },
        "id": "qgBdi_3lPnhP",
        "outputId": "6166b103-521a-411e-d4e5-4d7e81b868e6"
      },
      "execution_count": null,
      "outputs": [
        {
          "output_type": "stream",
          "name": "stdout",
          "text": [
            "Cloning into 'yolov5'...\n",
            "remote: Enumerating objects: 16836, done.\u001b[K\n",
            "remote: Counting objects: 100% (11/11), done.\u001b[K\n",
            "remote: Compressing objects: 100% (11/11), done.\u001b[K\n",
            "remote: Total 16836 (delta 1), reused 6 (delta 0), pack-reused 16825\u001b[K\n",
            "Receiving objects: 100% (16836/16836), 15.58 MiB | 15.83 MiB/s, done.\n",
            "Resolving deltas: 100% (11545/11545), done.\n"
          ]
        }
      ]
    },
    {
      "cell_type": "code",
      "source": [
        "!cd yolov5"
      ],
      "metadata": {
        "id": "XjbETcFlQhJN"
      },
      "execution_count": null,
      "outputs": []
    },
    {
      "cell_type": "code",
      "source": [
        "!pwd"
      ],
      "metadata": {
        "colab": {
          "base_uri": "https://localhost:8080/"
        },
        "id": "1wJCBDFBQu3T",
        "outputId": "8f50d692-5f03-4903-e007-7423ed1a81c3"
      },
      "execution_count": null,
      "outputs": [
        {
          "output_type": "stream",
          "name": "stdout",
          "text": [
            "/content\n"
          ]
        }
      ]
    },
    {
      "cell_type": "code",
      "source": [
        "\n",
        "!python yolov5/export.py --weights yolov5/yolov5s-seg.pt --include torchscript onnx"
      ],
      "metadata": {
        "colab": {
          "base_uri": "https://localhost:8080/"
        },
        "id": "X580gxrLQqCe",
        "outputId": "cad0bfee-e8a4-42ee-aecb-08e2a0757638"
      },
      "execution_count": null,
      "outputs": [
        {
          "output_type": "stream",
          "name": "stdout",
          "text": [
            "\u001b[34m\u001b[1mexport: \u001b[0mdata=yolov5/data/coco128.yaml, weights=['yolov5/yolov5s-seg.pt'], imgsz=[640, 640], batch_size=1, device=cpu, half=False, inplace=False, keras=False, optimize=False, int8=False, dynamic=False, simplify=False, opset=12, verbose=False, workspace=4, nms=False, agnostic_nms=False, topk_per_class=100, topk_all=100, iou_thres=0.45, conf_thres=0.25, include=['torchscript', 'onnx']\n",
            "YOLOv5 🚀 v7.0-0-g915bbf29 Python-3.10.12 torch-2.3.1+cu121 CPU\n",
            "\n",
            "Downloading https://github.com/ultralytics/yolov5/releases/download/v7.0/yolov5s-seg.pt to yolov5/yolov5s-seg.pt...\n",
            "100% 14.9M/14.9M [00:00<00:00, 30.7MB/s]\n",
            "\n",
            "Fusing layers... \n",
            "YOLOv5s-seg summary: 224 layers, 7611485 parameters, 0 gradients, 26.4 GFLOPs\n",
            "\n",
            "\u001b[34m\u001b[1mPyTorch:\u001b[0m starting from yolov5/yolov5s-seg.pt with output shape (1, 25200, 117) (14.9 MB)\n",
            "\n",
            "\u001b[34m\u001b[1mTorchScript:\u001b[0m starting export with torch 2.3.1+cu121...\n",
            "\u001b[34m\u001b[1mTorchScript:\u001b[0m export success ✅ 4.2s, saved as yolov5/yolov5s-seg.torchscript (29.5 MB)\n",
            "\u001b[31m\u001b[1mrequirements:\u001b[0m YOLOv5 requirement \"onnx\" not found, attempting AutoUpdate...\n",
            "Collecting onnx\n",
            "  Downloading onnx-1.16.2-cp310-cp310-manylinux_2_17_x86_64.manylinux2014_x86_64.whl.metadata (16 kB)\n",
            "Requirement already satisfied: numpy>=1.20 in /usr/local/lib/python3.10/dist-packages (from onnx) (1.26.4)\n",
            "Requirement already satisfied: protobuf>=3.20.2 in /usr/local/lib/python3.10/dist-packages (from onnx) (3.20.3)\n",
            "Downloading onnx-1.16.2-cp310-cp310-manylinux_2_17_x86_64.manylinux2014_x86_64.whl (15.9 MB)\n",
            "   ━━━━━━━━━━━━━━━━━━━━━━━━━━━━━━━━━━━━━━━━ 15.9/15.9 MB 86.4 MB/s eta 0:00:00\n",
            "Installing collected packages: onnx\n",
            "Successfully installed onnx-1.16.2\n",
            "\n",
            "\u001b[31m\u001b[1mrequirements:\u001b[0m 1 package updated per ['onnx']\n",
            "\u001b[31m\u001b[1mrequirements:\u001b[0m ⚠️ \u001b[1mRestart runtime or rerun command for updates to take effect\u001b[0m\n",
            "\n",
            "\n",
            "\u001b[34m\u001b[1mONNX:\u001b[0m starting export with onnx 1.16.2...\n",
            "\u001b[34m\u001b[1mONNX:\u001b[0m export success ✅ 7.0s, saved as yolov5/yolov5s-seg.onnx (29.5 MB)\n",
            "\n",
            "Export complete (16.3s)\n",
            "Results saved to \u001b[1m/content/yolov5\u001b[0m\n",
            "Detect:          python segment/detect.py --weights yolov5/yolov5s-seg.onnx \n",
            "Validate:        python segment/val.py --weights yolov5/yolov5s-seg.onnx \n",
            "PyTorch Hub:     model = torch.hub.load('ultralytics/yolov5', 'custom', 'yolov5/yolov5s-seg.onnx')  # WARNING ⚠️ SegmentationModel not yet supported for PyTorch Hub AutoShape inference\n",
            "Visualize:       https://netron.app\n"
          ]
        }
      ]
    },
    {
      "cell_type": "code",
      "source": [
        "!git clone -b yolov5-v7.0 https://github.com/wang-xinyu/tensorrtx.git"
      ],
      "metadata": {
        "colab": {
          "base_uri": "https://localhost:8080/"
        },
        "id": "HqJk4mgf3XgJ",
        "outputId": "d14a54f2-539a-4507-9273-204fe03eb479"
      },
      "execution_count": null,
      "outputs": [
        {
          "output_type": "stream",
          "name": "stdout",
          "text": [
            "Cloning into 'tensorrtx'...\n",
            "remote: Enumerating objects: 2973, done.\u001b[K\n",
            "remote: Counting objects: 100% (1022/1022), done.\u001b[K\n",
            "remote: Compressing objects: 100% (456/456), done.\u001b[K\n",
            "remote: Total 2973 (delta 760), reused 661 (delta 557), pack-reused 1951\u001b[K\n",
            "Receiving objects: 100% (2973/2973), 2.20 MiB | 7.77 MiB/s, done.\n",
            "Resolving deltas: 100% (1940/1940), done.\n",
            "Note: switching to 'f39f2c14336768e1dccce0b17a3604c4bbbcd1a2'.\n",
            "\n",
            "You are in 'detached HEAD' state. You can look around, make experimental\n",
            "changes and commit them, and you can discard any commits you make in this\n",
            "state without impacting any branches by switching back to a branch.\n",
            "\n",
            "If you want to create a new branch to retain commits you create, you may\n",
            "do so (now or later) by using -c with the switch command. Example:\n",
            "\n",
            "  git switch -c <new-branch-name>\n",
            "\n",
            "Or undo this operation with:\n",
            "\n",
            "  git switch -\n",
            "\n",
            "Turn off this advice by setting config variable advice.detachedHead to false\n",
            "\n"
          ]
        }
      ]
    },
    {
      "cell_type": "code",
      "source": [
        "!cd tensorrtx"
      ],
      "metadata": {
        "id": "g1I1fLaN3_zv"
      },
      "execution_count": null,
      "outputs": []
    },
    {
      "cell_type": "code",
      "source": [
        "!python tensorrtx/yolov5/gen_wts.py -w tensorrtx/yolov5s-seg.pt -o yolov5s-seg.wts\n"
      ],
      "metadata": {
        "colab": {
          "base_uri": "https://localhost:8080/"
        },
        "id": "8WSsfHlQ4Ffk",
        "outputId": "e793e6d2-17db-4a6c-a17f-dd8299104aa8"
      },
      "execution_count": null,
      "outputs": [
        {
          "output_type": "stream",
          "name": "stdout",
          "text": [
            "Traceback (most recent call last):\n",
            "  File \"/content/tensorrtx/yolov5/gen_wts.py\", line 6, in <module>\n",
            "    from utils.torch_utils import select_device\n",
            "ModuleNotFoundError: No module named 'utils.torch_utils'\n"
          ]
        }
      ]
    },
    {
      "cell_type": "code",
      "source": [
        "!pip install -r tensorrtx/requirements.txt"
      ],
      "metadata": {
        "colab": {
          "base_uri": "https://localhost:8080/"
        },
        "id": "zXw58Egz5AE2",
        "outputId": "3f31164f-a765-40ee-ada2-1433280b3ba7"
      },
      "execution_count": null,
      "outputs": [
        {
          "output_type": "stream",
          "name": "stdout",
          "text": [
            "Requirement already satisfied: gitpython>=3.1.30 in /usr/local/lib/python3.10/dist-packages (from -r tensorrtx/requirements.txt (line 5)) (3.1.43)\n",
            "Requirement already satisfied: matplotlib>=3.3 in /usr/local/lib/python3.10/dist-packages (from -r tensorrtx/requirements.txt (line 6)) (3.7.1)\n",
            "Requirement already satisfied: numpy>=1.23.5 in /usr/local/lib/python3.10/dist-packages (from -r tensorrtx/requirements.txt (line 7)) (1.26.4)\n",
            "Requirement already satisfied: opencv-python>=4.1.1 in /usr/local/lib/python3.10/dist-packages (from -r tensorrtx/requirements.txt (line 8)) (4.10.0.84)\n",
            "Requirement already satisfied: pillow>=10.3.0 in /usr/local/lib/python3.10/dist-packages (from -r tensorrtx/requirements.txt (line 9)) (10.4.0)\n",
            "Requirement already satisfied: psutil in /usr/local/lib/python3.10/dist-packages (from -r tensorrtx/requirements.txt (line 10)) (5.9.5)\n",
            "Requirement already satisfied: PyYAML>=5.3.1 in /usr/local/lib/python3.10/dist-packages (from -r tensorrtx/requirements.txt (line 11)) (6.0.1)\n",
            "Requirement already satisfied: requests>=2.32.0 in /usr/local/lib/python3.10/dist-packages (from -r tensorrtx/requirements.txt (line 12)) (2.32.3)\n",
            "Requirement already satisfied: scipy>=1.4.1 in /usr/local/lib/python3.10/dist-packages (from -r tensorrtx/requirements.txt (line 13)) (1.13.1)\n",
            "Requirement already satisfied: thop>=0.1.1 in /usr/local/lib/python3.10/dist-packages (from -r tensorrtx/requirements.txt (line 14)) (0.1.1.post2209072238)\n",
            "Requirement already satisfied: torch>=1.8.0 in /usr/local/lib/python3.10/dist-packages (from -r tensorrtx/requirements.txt (line 15)) (2.3.1)\n",
            "Requirement already satisfied: torchvision>=0.9.0 in /usr/local/lib/python3.10/dist-packages (from -r tensorrtx/requirements.txt (line 16)) (0.18.1+cu121)\n",
            "Requirement already satisfied: tqdm>=4.64.0 in /usr/local/lib/python3.10/dist-packages (from -r tensorrtx/requirements.txt (line 17)) (4.66.5)\n",
            "Requirement already satisfied: ultralytics>=8.2.34 in /usr/local/lib/python3.10/dist-packages (from -r tensorrtx/requirements.txt (line 18)) (8.2.75)\n",
            "Requirement already satisfied: pandas>=1.1.4 in /usr/local/lib/python3.10/dist-packages (from -r tensorrtx/requirements.txt (line 27)) (2.1.4)\n",
            "Requirement already satisfied: seaborn>=0.11.0 in /usr/local/lib/python3.10/dist-packages (from -r tensorrtx/requirements.txt (line 28)) (0.13.1)\n",
            "Requirement already satisfied: setuptools>=70.0.0 in /usr/local/lib/python3.10/dist-packages (from -r tensorrtx/requirements.txt (line 42)) (71.0.4)\n",
            "Requirement already satisfied: gitdb<5,>=4.0.1 in /usr/local/lib/python3.10/dist-packages (from gitpython>=3.1.30->-r tensorrtx/requirements.txt (line 5)) (4.0.11)\n",
            "Requirement already satisfied: contourpy>=1.0.1 in /usr/local/lib/python3.10/dist-packages (from matplotlib>=3.3->-r tensorrtx/requirements.txt (line 6)) (1.2.1)\n",
            "Requirement already satisfied: cycler>=0.10 in /usr/local/lib/python3.10/dist-packages (from matplotlib>=3.3->-r tensorrtx/requirements.txt (line 6)) (0.12.1)\n",
            "Requirement already satisfied: fonttools>=4.22.0 in /usr/local/lib/python3.10/dist-packages (from matplotlib>=3.3->-r tensorrtx/requirements.txt (line 6)) (4.53.1)\n",
            "Requirement already satisfied: kiwisolver>=1.0.1 in /usr/local/lib/python3.10/dist-packages (from matplotlib>=3.3->-r tensorrtx/requirements.txt (line 6)) (1.4.5)\n",
            "Requirement already satisfied: packaging>=20.0 in /usr/local/lib/python3.10/dist-packages (from matplotlib>=3.3->-r tensorrtx/requirements.txt (line 6)) (24.1)\n",
            "Requirement already satisfied: pyparsing>=2.3.1 in /usr/local/lib/python3.10/dist-packages (from matplotlib>=3.3->-r tensorrtx/requirements.txt (line 6)) (3.1.2)\n",
            "Requirement already satisfied: python-dateutil>=2.7 in /usr/local/lib/python3.10/dist-packages (from matplotlib>=3.3->-r tensorrtx/requirements.txt (line 6)) (2.8.2)\n",
            "Requirement already satisfied: charset-normalizer<4,>=2 in /usr/local/lib/python3.10/dist-packages (from requests>=2.32.0->-r tensorrtx/requirements.txt (line 12)) (3.3.2)\n",
            "Requirement already satisfied: idna<4,>=2.5 in /usr/local/lib/python3.10/dist-packages (from requests>=2.32.0->-r tensorrtx/requirements.txt (line 12)) (3.7)\n",
            "Requirement already satisfied: urllib3<3,>=1.21.1 in /usr/local/lib/python3.10/dist-packages (from requests>=2.32.0->-r tensorrtx/requirements.txt (line 12)) (2.0.7)\n",
            "Requirement already satisfied: certifi>=2017.4.17 in /usr/local/lib/python3.10/dist-packages (from requests>=2.32.0->-r tensorrtx/requirements.txt (line 12)) (2024.7.4)\n",
            "Requirement already satisfied: filelock in /usr/local/lib/python3.10/dist-packages (from torch>=1.8.0->-r tensorrtx/requirements.txt (line 15)) (3.15.4)\n",
            "Requirement already satisfied: typing-extensions>=4.8.0 in /usr/local/lib/python3.10/dist-packages (from torch>=1.8.0->-r tensorrtx/requirements.txt (line 15)) (4.12.2)\n",
            "Requirement already satisfied: sympy in /usr/local/lib/python3.10/dist-packages (from torch>=1.8.0->-r tensorrtx/requirements.txt (line 15)) (1.13.1)\n",
            "Requirement already satisfied: networkx in /usr/local/lib/python3.10/dist-packages (from torch>=1.8.0->-r tensorrtx/requirements.txt (line 15)) (3.3)\n",
            "Requirement already satisfied: jinja2 in /usr/local/lib/python3.10/dist-packages (from torch>=1.8.0->-r tensorrtx/requirements.txt (line 15)) (3.1.4)\n",
            "Requirement already satisfied: fsspec in /usr/local/lib/python3.10/dist-packages (from torch>=1.8.0->-r tensorrtx/requirements.txt (line 15)) (2024.6.1)\n",
            "Requirement already satisfied: nvidia-cuda-nvrtc-cu12==12.1.105 in /usr/local/lib/python3.10/dist-packages (from torch>=1.8.0->-r tensorrtx/requirements.txt (line 15)) (12.1.105)\n",
            "Requirement already satisfied: nvidia-cuda-runtime-cu12==12.1.105 in /usr/local/lib/python3.10/dist-packages (from torch>=1.8.0->-r tensorrtx/requirements.txt (line 15)) (12.1.105)\n",
            "Requirement already satisfied: nvidia-cuda-cupti-cu12==12.1.105 in /usr/local/lib/python3.10/dist-packages (from torch>=1.8.0->-r tensorrtx/requirements.txt (line 15)) (12.1.105)\n",
            "Requirement already satisfied: nvidia-cudnn-cu12==8.9.2.26 in /usr/local/lib/python3.10/dist-packages (from torch>=1.8.0->-r tensorrtx/requirements.txt (line 15)) (8.9.2.26)\n",
            "Requirement already satisfied: nvidia-cublas-cu12==12.1.3.1 in /usr/local/lib/python3.10/dist-packages (from torch>=1.8.0->-r tensorrtx/requirements.txt (line 15)) (12.1.3.1)\n",
            "Requirement already satisfied: nvidia-cufft-cu12==11.0.2.54 in /usr/local/lib/python3.10/dist-packages (from torch>=1.8.0->-r tensorrtx/requirements.txt (line 15)) (11.0.2.54)\n",
            "Requirement already satisfied: nvidia-curand-cu12==10.3.2.106 in /usr/local/lib/python3.10/dist-packages (from torch>=1.8.0->-r tensorrtx/requirements.txt (line 15)) (10.3.2.106)\n",
            "Requirement already satisfied: nvidia-cusolver-cu12==11.4.5.107 in /usr/local/lib/python3.10/dist-packages (from torch>=1.8.0->-r tensorrtx/requirements.txt (line 15)) (11.4.5.107)\n",
            "Requirement already satisfied: nvidia-cusparse-cu12==12.1.0.106 in /usr/local/lib/python3.10/dist-packages (from torch>=1.8.0->-r tensorrtx/requirements.txt (line 15)) (12.1.0.106)\n",
            "Requirement already satisfied: nvidia-nccl-cu12==2.20.5 in /usr/local/lib/python3.10/dist-packages (from torch>=1.8.0->-r tensorrtx/requirements.txt (line 15)) (2.20.5)\n",
            "Requirement already satisfied: nvidia-nvtx-cu12==12.1.105 in /usr/local/lib/python3.10/dist-packages (from torch>=1.8.0->-r tensorrtx/requirements.txt (line 15)) (12.1.105)\n",
            "Requirement already satisfied: triton==2.3.1 in /usr/local/lib/python3.10/dist-packages (from torch>=1.8.0->-r tensorrtx/requirements.txt (line 15)) (2.3.1)\n",
            "Requirement already satisfied: nvidia-nvjitlink-cu12 in /usr/local/lib/python3.10/dist-packages (from nvidia-cusolver-cu12==11.4.5.107->torch>=1.8.0->-r tensorrtx/requirements.txt (line 15)) (12.6.20)\n",
            "Requirement already satisfied: py-cpuinfo in /usr/local/lib/python3.10/dist-packages (from ultralytics>=8.2.34->-r tensorrtx/requirements.txt (line 18)) (9.0.0)\n",
            "Requirement already satisfied: ultralytics-thop>=2.0.0 in /usr/local/lib/python3.10/dist-packages (from ultralytics>=8.2.34->-r tensorrtx/requirements.txt (line 18)) (2.0.0)\n",
            "Requirement already satisfied: pytz>=2020.1 in /usr/local/lib/python3.10/dist-packages (from pandas>=1.1.4->-r tensorrtx/requirements.txt (line 27)) (2024.1)\n",
            "Requirement already satisfied: tzdata>=2022.1 in /usr/local/lib/python3.10/dist-packages (from pandas>=1.1.4->-r tensorrtx/requirements.txt (line 27)) (2024.1)\n",
            "Requirement already satisfied: smmap<6,>=3.0.1 in /usr/local/lib/python3.10/dist-packages (from gitdb<5,>=4.0.1->gitpython>=3.1.30->-r tensorrtx/requirements.txt (line 5)) (5.0.1)\n",
            "Requirement already satisfied: six>=1.5 in /usr/local/lib/python3.10/dist-packages (from python-dateutil>=2.7->matplotlib>=3.3->-r tensorrtx/requirements.txt (line 6)) (1.16.0)\n",
            "Requirement already satisfied: MarkupSafe>=2.0 in /usr/local/lib/python3.10/dist-packages (from jinja2->torch>=1.8.0->-r tensorrtx/requirements.txt (line 15)) (2.1.5)\n",
            "Requirement already satisfied: mpmath<1.4,>=1.1.0 in /usr/local/lib/python3.10/dist-packages (from sympy->torch>=1.8.0->-r tensorrtx/requirements.txt (line 15)) (1.3.0)\n"
          ]
        }
      ]
    },
    {
      "cell_type": "code",
      "source": [
        "%cd /content/yolov5\n",
        "!pwd\n",
        "!cp /content/tensorrtx/yolov5/gen_wts.py .\n",
        "!python3.10 gen_wts.py -w /content/tensorrtx/yolov5s-seg.pt -o /content/tensorrtx/yolov5s-seg.wts"
      ],
      "metadata": {
        "colab": {
          "base_uri": "https://localhost:8080/"
        },
        "id": "KO4ByMCY4sgg",
        "outputId": "1d534a05-1ad7-40be-86e0-252f30f83686"
      },
      "execution_count": null,
      "outputs": [
        {
          "output_type": "stream",
          "name": "stdout",
          "text": [
            "/content/yolov5\n",
            "/content/yolov5\n",
            "Generating .wts for detect model\n",
            "Loading /content/tensorrtx/yolov5s-seg.pt\n",
            "YOLOv5 🚀 v7.0-0-g915bbf29 Python-3.10.12 torch-2.3.1+cu121 CPU\n",
            "\n",
            "Writing into /content/tensorrtx/yolov5s-seg.wts\n"
          ]
        }
      ]
    }
  ]
}